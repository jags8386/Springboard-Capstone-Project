{
 "cells": [
  {
   "cell_type": "markdown",
   "metadata": {},
   "source": [
    "<h1> <b> Purpose of this analysis</b></h1>\n",
    "Purpose of this mini project is to experiment some of data wrangling techniques. We have rcieved Lending Club Loan Data set from 2007 to 2015. There are total 2.2 million rows and 145 columns. It is important to do some pre-processing work in order to analyze data and fill out missing values.  \n",
    "\n",
    "<h2> <b> Packages</b></h2>\n",
    "We will start by importing some of packages. Following packages will be imported.\n"
   ]
  },
  {
   "cell_type": "code",
   "execution_count": 17,
   "metadata": {},
   "outputs": [],
   "source": [
    "import pandas as pd\n",
    "import matplotlib.pyplot as plt\n",
    "import numpy as np\n",
    "import seaborn as sns\n",
    "\n",
    "\n",
    "%matplotlib inline\n",
    "\n",
    "pd.set_option('display.max_columns', None)\n",
    "pd.set_option('display.max_rows', None)\n",
    "\n",
    "sns.set_style('whitegrid')"
   ]
  },
  {
   "cell_type": "markdown",
   "metadata": {},
   "source": [
    "<h2> Step 1 : Reading Data in Dataframe </h2>\n",
    "Now we will be reading data from \"Loan.csv\" to Pandas Dataframe."
   ]
  },
  {
   "cell_type": "code",
   "execution_count": 18,
   "metadata": {},
   "outputs": [],
   "source": [
    "data_list = []\n",
    "\n",
    "for chunk in  pd.read_csv('loan.csv', chunksize=200000, low_memory=False):\n",
    "    data_list.append(chunk)\n",
    "\n",
    "data = pd.concat(data_list, axis= 0)\n",
    "del data_list\n",
    "\n",
    "# data = pd.read_csv(\"loan.csv\", low_memory=False)\n",
    "\n"
   ]
  },
  {
   "cell_type": "markdown",
   "metadata": {},
   "source": [
    "<h2> Step 2 : Checking data size </h2>\n",
    "Let's quickly check the shape of data.This will give us idea as how large is current dataset. As we can see, current data set contains more than 2 million rows and 145 columns. Not all columns are useful for our analysis. "
   ]
  },
  {
   "cell_type": "code",
   "execution_count": 19,
   "metadata": {},
   "outputs": [
    {
     "name": "stdout",
     "output_type": "stream",
     "text": [
      "(2260668, 145)\n"
     ]
    }
   ],
   "source": [
    "# print(list(data.columns))\n",
    "print(data.shape)"
   ]
  },
  {
   "cell_type": "markdown",
   "metadata": {},
   "source": [
    "<h2> Step 3 : Calculating Percentage of missing data per column </h2>\n",
    "Here  we will be creating Dataframe called \"df_null\". This Data frame consist of column name with percent of missing data in each column in descending order. It is noted that any column that has more than 60% of data missing are useless for our analysis and we will simply drop it. \n",
    "As we see some column like \"url\", \"id\", \"member_id\" has 100% missing values. Apart from that lot of columns have more than 80% missing data. We will simply drop column which has more than 60% data missing. "
   ]
  },
  {
   "cell_type": "code",
   "execution_count": 20,
   "metadata": {
    "scrolled": true
   },
   "outputs": [
    {
     "name": "stdout",
     "output_type": "stream",
     "text": [
      "                                              Count  Percent\n",
      "id                                          2260668   100.00\n",
      "url                                         2260668   100.00\n",
      "member_id                                   2260668   100.00\n",
      "orig_projected_additional_accrued_interest  2252242    99.63\n",
      "hardship_length                             2250055    99.53\n",
      "hardship_reason                             2250055    99.53\n",
      "hardship_status                             2250055    99.53\n",
      "deferral_term                               2250055    99.53\n",
      "hardship_amount                             2250055    99.53\n",
      "hardship_start_date                         2250055    99.53\n",
      "hardship_end_date                           2250055    99.53\n",
      "payment_plan_start_date                     2250055    99.53\n",
      "hardship_loan_status                        2250055    99.53\n",
      "hardship_dpd                                2250055    99.53\n",
      "hardship_payoff_balance_amount              2250055    99.53\n",
      "hardship_last_payment_amount                2250055    99.53\n",
      "hardship_type                               2250055    99.53\n",
      "debt_settlement_flag_date                   2227612    98.54\n",
      "settlement_status                           2227612    98.54\n",
      "settlement_date                             2227612    98.54\n",
      "settlement_amount                           2227612    98.54\n",
      "settlement_percentage                       2227612    98.54\n",
      "settlement_term                             2227612    98.54\n",
      "sec_app_mths_since_last_major_derog         2224726    98.41\n",
      "sec_app_revol_util                          2154484    95.30\n",
      "revol_bal_joint                             2152648    95.22\n",
      "sec_app_open_acc                            2152647    95.22\n",
      "sec_app_chargeoff_within_12_mths            2152647    95.22\n",
      "sec_app_open_act_il                         2152647    95.22\n",
      "sec_app_collections_12_mths_ex_med          2152647    95.22\n",
      "sec_app_mort_acc                            2152647    95.22\n",
      "sec_app_inq_last_6mths                      2152647    95.22\n",
      "sec_app_earliest_cr_line                    2152647    95.22\n",
      "sec_app_num_rev_accts                       2152647    95.22\n",
      "verification_status_joint                   2144938    94.88\n",
      "dti_joint                                   2139962    94.66\n",
      "annual_inc_joint                            2139958    94.66\n",
      "desc                                        2134601    94.42\n",
      "mths_since_last_record                      1901512    84.11\n",
      "mths_since_recent_bc_dlq                    1740967    77.01\n",
      "mths_since_last_major_derog                 1679893    74.31\n",
      "mths_since_recent_revol_delinq              1520309    67.25\n",
      "next_pymnt_d                                1303607    57.66\n",
      "mths_since_last_delinq                      1158502    51.25\n",
      "il_util                                     1068850    47.28\n",
      "mths_since_rcnt_il                           909924    40.25\n",
      "all_util                                     866348    38.32\n",
      "inq_last_12m                                 866130    38.31\n",
      "total_cu_tl                                  866130    38.31\n",
      "open_acc_6m                                  866130    38.31\n",
      "open_il_24m                                  866129    38.31\n",
      "open_act_il                                  866129    38.31\n",
      "inq_fi                                       866129    38.31\n",
      "max_bal_bc                                   866129    38.31\n",
      "open_rv_24m                                  866129    38.31\n",
      "open_rv_12m                                  866129    38.31\n",
      "total_bal_il                                 866129    38.31\n",
      "open_il_12m                                  866129    38.31\n",
      "mths_since_recent_inq                        295435    13.07\n",
      "emp_title                                    166969     7.39\n",
      "num_tl_120dpd_2m                             153657     6.80\n",
      "emp_length                                   146907     6.50\n",
      "mo_sin_old_il_acct                           139071     6.15\n",
      "bc_util                                       76071     3.36\n",
      "percent_bc_gt_75                              75379     3.33\n",
      "bc_open_to_buy                                74935     3.31\n",
      "mths_since_recent_bc                          73412     3.25\n",
      "pct_tl_nvr_dlq                                70431     3.12\n",
      "avg_cur_bal                                   70346     3.11\n",
      "num_rev_accts                                 70277     3.11\n",
      "mo_sin_rcnt_rev_tl_op                         70277     3.11\n",
      "mo_sin_old_rev_tl_op                          70277     3.11\n",
      "num_tl_90g_dpd_24m                            70276     3.11\n",
      "num_actv_rev_tl                               70276     3.11\n",
      "tot_coll_amt                                  70276     3.11\n",
      "tot_cur_bal                                   70276     3.11\n",
      "total_rev_hi_lim                              70276     3.11\n",
      "num_tl_op_past_12m                            70276     3.11\n",
      "num_op_rev_tl                                 70276     3.11\n",
      "num_il_tl                                     70276     3.11\n",
      "mo_sin_rcnt_tl                                70276     3.11\n",
      "num_accts_ever_120_pd                         70276     3.11\n",
      "num_actv_bc_tl                                70276     3.11\n",
      "num_rev_tl_bal_gt_0                           70276     3.11\n",
      "num_tl_30dpd                                  70276     3.11\n",
      "tot_hi_cred_lim                               70276     3.11\n",
      "num_bc_tl                                     70276     3.11\n",
      "total_il_high_credit_limit                    70276     3.11\n",
      "num_bc_sats                                   58590     2.59\n",
      "num_sats                                      58590     2.59\n",
      "acc_open_past_24mths                          50030     2.21\n",
      "mort_acc                                      50030     2.21\n",
      "total_bc_limit                                50030     2.21\n",
      "total_bal_ex_mort                             50030     2.21\n",
      "title                                         23325     1.03\n",
      "last_pymnt_d                                   2426     0.11\n",
      "revol_util                                     1802     0.08\n",
      "dti                                            1711     0.08\n",
      "pub_rec_bankruptcies                           1365     0.06\n",
      "chargeoff_within_12_mths                        145     0.01\n",
      "collections_12_mths_ex_med                      145     0.01\n",
      "tax_liens                                       105     0.00\n",
      "last_credit_pull_d                               73     0.00\n",
      "inq_last_6mths                                   30     0.00\n",
      "open_acc                                         29     0.00\n",
      "total_acc                                        29     0.00\n",
      "earliest_cr_line                                 29     0.00\n",
      "delinq_2yrs                                      29     0.00\n",
      "delinq_amnt                                      29     0.00\n",
      "acc_now_delinq                                   29     0.00\n",
      "pub_rec                                          29     0.00\n",
      "annual_inc                                        4     0.00\n",
      "zip_code                                          1     0.00\n"
     ]
    }
   ],
   "source": [
    "# print((data.isna().sum()[data.isna().sum() > 0]))\n",
    "df_null = pd.DataFrame({'Count': data.isnull().sum(), 'Percent': 100*data.isnull().sum()/len(data)})\n",
    "print(df_null[df_null['Percent'] > 0].sort_values(by='Percent', ascending=False))\n",
    "\n",
    "\n",
    "\n",
    "# print(data.head(3))"
   ]
  },
  {
   "cell_type": "markdown",
   "metadata": {},
   "source": [
    "<h2> Step 4 : Dropping column with more than 60% missing data </h2>\n",
    "We will create a list of columns that a data missing more than 60%. We will simply drop those columns and create new dataframe called df_clean. We wil print shape of new dataframe to see how much data has been reduced. We can see total count of columns from 145 to reduced to 103. "
   ]
  },
  {
   "cell_type": "code",
   "execution_count": 21,
   "metadata": {},
   "outputs": [
    {
     "name": "stdout",
     "output_type": "stream",
     "text": [
      "(2260668, 103)\n"
     ]
    }
   ],
   "source": [
    "# Creating list of column with more than 60% data missing. \n",
    "list_60 = list(df_null[df_null['Percent']>60].index)\n",
    "\n",
    "df_clean = data.drop(list_60, axis=1)\n",
    "print(df_clean.shape)"
   ]
  },
  {
   "cell_type": "markdown",
   "metadata": {},
   "source": [
    "<h2> Step 5 : Analyzing columns with missing data  more than 10% and 60% </h2>\n",
    "Now that we have eliminated major columns that had missing values. Lets analyze remaining column with missing values. For that we will print all column that has missing data and see how we can predict missing values. We will predict all columns that has missing data grether than 10%. Since we already dropped columns that has missing data more than 60%, in our dataframe."
   ]
  },
  {
   "cell_type": "code",
   "execution_count": 22,
   "metadata": {},
   "outputs": [
    {
     "name": "stdout",
     "output_type": "stream",
     "text": [
      "                          Count  Percent\n",
      "mths_since_last_delinq  1158502    51.25\n",
      "next_pymnt_d            1303607    57.66\n",
      "open_acc_6m              866130    38.31\n",
      "open_act_il              866129    38.31\n",
      "open_il_12m              866129    38.31\n",
      "open_il_24m              866129    38.31\n",
      "mths_since_rcnt_il       909924    40.25\n",
      "total_bal_il             866129    38.31\n",
      "il_util                 1068850    47.28\n",
      "open_rv_12m              866129    38.31\n",
      "open_rv_24m              866129    38.31\n",
      "max_bal_bc               866129    38.31\n",
      "all_util                 866348    38.32\n",
      "inq_fi                   866129    38.31\n",
      "total_cu_tl              866130    38.31\n",
      "inq_last_12m             866130    38.31\n",
      "mths_since_recent_inq    295435    13.07\n"
     ]
    }
   ],
   "source": [
    "df_null = pd.DataFrame({'Count': df_clean.isnull().sum(), 'Percent': 100*df_clean.isnull().sum()/len(df_clean)})\n",
    "print(df_null[df_null['Percent'] > 10])\n"
   ]
  },
  {
   "cell_type": "markdown",
   "metadata": {},
   "source": [
    "<h2> Step 5A : Checking data in columns with missing data more than 10% </h2>\n",
    "Lets examine few values of this columns so we can get idea what kind of data estimation we need to do."
   ]
  },
  {
   "cell_type": "code",
   "execution_count": 23,
   "metadata": {},
   "outputs": [
    {
     "name": "stdout",
     "output_type": "stream",
     "text": [
      "   mths_since_last_delinq next_pymnt_d  open_acc_6m  open_act_il  open_il_12m  \\\n",
      "0                     nan     Mar-2019         2.00         2.00         1.00   \n",
      "1                   71.00     Mar-2019         4.00         4.00         2.00   \n",
      "2                     nan     Mar-2019         0.00         1.00         0.00   \n",
      "\n",
      "   open_il_24m  mths_since_rcnt_il  total_bal_il  il_util  open_rv_12m  \\\n",
      "0         2.00                2.00      12560.00    69.00         2.00   \n",
      "1         3.00                3.00      87153.00    88.00         4.00   \n",
      "2         2.00               14.00       7150.00    72.00         0.00   \n",
      "\n",
      "   open_rv_24m  max_bal_bc  all_util  inq_fi  total_cu_tl  inq_last_12m  \\\n",
      "0         7.00     2137.00     28.00    1.00        11.00          2.00   \n",
      "1         5.00      998.00     57.00    2.00        15.00          2.00   \n",
      "2         2.00        0.00     35.00    1.00         5.00          0.00   \n",
      "\n",
      "   mths_since_recent_inq  \n",
      "0                   2.00  \n",
      "1                   4.00  \n",
      "2                  14.00  \n"
     ]
    }
   ],
   "source": [
    "col_10 = list(df_null[df_null['Percent'] > 10].index)\n",
    "print(df_clean[col_10].head(3))"
   ]
  },
  {
   "cell_type": "markdown",
   "metadata": {},
   "source": [
    "<h2> Step 5B : Dropping payment dates columns </h2>\n",
    "As we see above data set most missing data is numeric and we can use mode or median in order to fill missing values. By looking at dataset and name of columns, mode will be better option compared to median for most of columns. For \"total_bil_il\" we will use median. Lets analyze mode and median of those columns. But before we need to drop 3 columns which is not useful for our analysis. Those are \n",
    "1)  \"next_pymnt_dt\n",
    "2) 'last_credit_pull_d'\n",
    "3) 'last_pymnt_d'\n",
    "\n",
    "Lets create a list of these columns. "
   ]
  },
  {
   "cell_type": "code",
   "execution_count": 24,
   "metadata": {},
   "outputs": [],
   "source": [
    "# print(df_clean.shape)\n",
    "cols_to_drop = ['next_pymnt_d', 'last_credit_pull_d', 'last_pymnt_d']\n",
    "df_clean.drop(cols_to_drop, axis=1, inplace=True)\n",
    "df_null = pd.DataFrame({'Count': df_clean.isnull().sum(), 'Percent': 100*df_clean.isnull().sum()/len(df_clean)})"
   ]
  },
  {
   "cell_type": "markdown",
   "metadata": {},
   "source": [
    "<h2> Step 5C : Checking mode and median of missing data columns </h2>\n",
    "Now we will eamine mode and median of all columns those we trying to do estiamtion.\n",
    "\n"
   ]
  },
  {
   "cell_type": "code",
   "execution_count": 25,
   "metadata": {},
   "outputs": [
    {
     "name": "stdout",
     "output_type": "stream",
     "text": [
      "                          Count  Percent  mode   median\n",
      "mths_since_last_delinq  1158502    51.25 12.00    31.00\n",
      "open_acc_6m              866130    38.31  0.00     1.00\n",
      "open_act_il              866129    38.31  1.00     2.00\n",
      "open_il_12m              866129    38.31  0.00     0.00\n",
      "open_il_24m              866129    38.31  1.00     1.00\n",
      "mths_since_rcnt_il       909924    40.25  7.00    13.00\n",
      "total_bal_il             866129    38.31  0.00 23127.00\n",
      "il_util                 1068850    47.28 78.00    72.00\n",
      "open_rv_12m              866129    38.31  0.00     1.00\n",
      "open_rv_24m              866129    38.31  1.00     2.00\n",
      "max_bal_bc               866129    38.31  0.00  4413.00\n",
      "all_util                 866348    38.32 59.00    58.00\n",
      "inq_fi                   866129    38.31  0.00     1.00\n",
      "total_cu_tl              866130    38.31  0.00     0.00\n",
      "inq_last_12m             866130    38.31  0.00     1.00\n",
      "mths_since_recent_inq    295435    13.07  1.00     5.00\n"
     ]
    }
   ],
   "source": [
    "col_10 = list(df_null[df_null['Percent'] > 10].index)\n",
    "# print(col_10)\n",
    "# print(df_null.loc[col_10, :])\n",
    "for index in col_10:\n",
    "    df_null.loc[index, 'mode'] = df_clean[index].mode()[0]\n",
    "    df_null.loc[index, 'median'] = df_clean[index].median()\n",
    "print(df_null.loc[col_10, :])\n",
    "\n"
   ]
  },
  {
   "cell_type": "markdown",
   "metadata": {},
   "source": [
    "<h2> Step 5D : predicting missing values using mode </h2>\n",
    "By looking at above table, it makes more sense to fill all above columns by mode rather than median. Lets fill those missing values in above columns using mode."
   ]
  },
  {
   "cell_type": "code",
   "execution_count": 26,
   "metadata": {},
   "outputs": [],
   "source": [
    "df_clean[col_10] = df_clean[col_10].fillna(df_clean.mode().iloc[0])"
   ]
  },
  {
   "cell_type": "markdown",
   "metadata": {},
   "source": [
    "<h2> Step 6 : Dropping all missing data </h2>\n",
    "Now lets examine remaining missing data. Most columns will have missing data less than 10%. We will simply drop them. We may see lot of columns having missing data less than 10%. We will simply drop them. That way we will only lose 10% of data"
   ]
  },
  {
   "cell_type": "code",
   "execution_count": 27,
   "metadata": {},
   "outputs": [
    {
     "name": "stdout",
     "output_type": "stream",
     "text": [
      "(1854073, 100)\n"
     ]
    }
   ],
   "source": [
    "# df_null = pd.DataFrame({'Count': df_clean.isnull().sum(), 'Percent': 100*df_clean.isnull().sum()/len(df_clean)})\n",
    "# print(df_null[df_null['Percent'] > 0])\n",
    "df_clean.dropna(inplace=True)\n",
    "print(df_clean.shape)\n"
   ]
  },
  {
   "cell_type": "markdown",
   "metadata": {},
   "source": [
    "<h2> Step 7 : Analyzing datatypes of clean data </h2>\n",
    "Now we have get rid of all missing data. Dataset is almost clean. Lets see datatypes of datasets. "
   ]
  },
  {
   "cell_type": "code",
   "execution_count": 28,
   "metadata": {},
   "outputs": [
    {
     "name": "stdout",
     "output_type": "stream",
     "text": [
      "loan_amnt                       int64\n",
      "funded_amnt                     int64\n",
      "funded_amnt_inv               float64\n",
      "term                           object\n",
      "int_rate                      float64\n",
      "installment                   float64\n",
      "grade                          object\n",
      "sub_grade                      object\n",
      "emp_title                      object\n",
      "emp_length                     object\n",
      "home_ownership                 object\n",
      "annual_inc                    float64\n",
      "verification_status            object\n",
      "issue_d                        object\n",
      "loan_status                    object\n",
      "pymnt_plan                     object\n",
      "purpose                        object\n",
      "title                          object\n",
      "zip_code                       object\n",
      "addr_state                     object\n",
      "dti                           float64\n",
      "delinq_2yrs                   float64\n",
      "earliest_cr_line               object\n",
      "inq_last_6mths                float64\n",
      "mths_since_last_delinq        float64\n",
      "open_acc                      float64\n",
      "pub_rec                       float64\n",
      "revol_bal                       int64\n",
      "revol_util                    float64\n",
      "total_acc                     float64\n",
      "initial_list_status            object\n",
      "out_prncp                     float64\n",
      "out_prncp_inv                 float64\n",
      "total_pymnt                   float64\n",
      "total_pymnt_inv               float64\n",
      "total_rec_prncp               float64\n",
      "total_rec_int                 float64\n",
      "total_rec_late_fee            float64\n",
      "recoveries                    float64\n",
      "collection_recovery_fee       float64\n",
      "last_pymnt_amnt               float64\n",
      "collections_12_mths_ex_med    float64\n",
      "policy_code                     int64\n",
      "application_type               object\n",
      "acc_now_delinq                float64\n",
      "tot_coll_amt                  float64\n",
      "tot_cur_bal                   float64\n",
      "open_acc_6m                   float64\n",
      "open_act_il                   float64\n",
      "open_il_12m                   float64\n",
      "open_il_24m                   float64\n",
      "mths_since_rcnt_il            float64\n",
      "total_bal_il                  float64\n",
      "il_util                       float64\n",
      "open_rv_12m                   float64\n",
      "open_rv_24m                   float64\n",
      "max_bal_bc                    float64\n",
      "all_util                      float64\n",
      "total_rev_hi_lim              float64\n",
      "inq_fi                        float64\n",
      "total_cu_tl                   float64\n",
      "inq_last_12m                  float64\n",
      "acc_open_past_24mths          float64\n",
      "avg_cur_bal                   float64\n",
      "bc_open_to_buy                float64\n",
      "bc_util                       float64\n",
      "chargeoff_within_12_mths      float64\n",
      "delinq_amnt                   float64\n",
      "mo_sin_old_il_acct            float64\n",
      "mo_sin_old_rev_tl_op          float64\n",
      "mo_sin_rcnt_rev_tl_op         float64\n",
      "mo_sin_rcnt_tl                float64\n",
      "mort_acc                      float64\n",
      "mths_since_recent_bc          float64\n",
      "mths_since_recent_inq         float64\n",
      "num_accts_ever_120_pd         float64\n",
      "num_actv_bc_tl                float64\n",
      "num_actv_rev_tl               float64\n",
      "num_bc_sats                   float64\n",
      "num_bc_tl                     float64\n",
      "num_il_tl                     float64\n",
      "num_op_rev_tl                 float64\n",
      "num_rev_accts                 float64\n",
      "num_rev_tl_bal_gt_0           float64\n",
      "num_sats                      float64\n",
      "num_tl_120dpd_2m              float64\n",
      "num_tl_30dpd                  float64\n",
      "num_tl_90g_dpd_24m            float64\n",
      "num_tl_op_past_12m            float64\n",
      "pct_tl_nvr_dlq                float64\n",
      "percent_bc_gt_75              float64\n",
      "pub_rec_bankruptcies          float64\n",
      "tax_liens                     float64\n",
      "tot_hi_cred_lim               float64\n",
      "total_bal_ex_mort             float64\n",
      "total_bc_limit                float64\n",
      "total_il_high_credit_limit    float64\n",
      "hardship_flag                  object\n",
      "disbursement_method            object\n",
      "debt_settlement_flag           object\n",
      "dtype: object\n"
     ]
    }
   ],
   "source": [
    "print(df_clean.dtypes)"
   ]
  },
  {
   "cell_type": "markdown",
   "metadata": {},
   "source": [
    "<h2> Step 8 : Fixing \"Employment Length\" column </h2>\n",
    "In above datatypes one of the important title is employment length. We should be expecting it as integer or float but it is object type. Lets analyze this column."
   ]
  },
  {
   "cell_type": "code",
   "execution_count": 29,
   "metadata": {},
   "outputs": [
    {
     "name": "stdout",
     "output_type": "stream",
     "text": [
      "10+ years    665309\n",
      "2 years      179041\n",
      "3 years      158836\n",
      "< 1 year     157037\n",
      "1 year       129053\n",
      "5 years      121646\n",
      "4 years      119208\n",
      "6 years       89893\n",
      "7 years       81825\n",
      "8 years       81520\n",
      "9 years       70705\n",
      "Name: emp_length, dtype: int64\n"
     ]
    }
   ],
   "source": [
    "print(df_clean['emp_length'].value_counts())"
   ]
  },
  {
   "cell_type": "markdown",
   "metadata": {},
   "source": [
    "Now lets remove unnecessary keywords suh as \"year\", \"<\" and \"+\". We will consider all records of empoyment length <1 years as 0 years and 10+ years as 10."
   ]
  },
  {
   "cell_type": "code",
   "execution_count": 30,
   "metadata": {},
   "outputs": [
    {
     "name": "stdout",
     "output_type": "stream",
     "text": [
      "10    665309\n",
      "2     179041\n",
      "3     158836\n",
      "0     157037\n",
      "1     129053\n",
      "5     121646\n",
      "4     119208\n",
      "6      89893\n",
      "7      81825\n",
      "8      81520\n",
      "9      70705\n",
      "Name: emp_length, dtype: int64\n"
     ]
    }
   ],
   "source": [
    "# df_clean['emp_length'].astype('str').dtypes\n",
    "df_clean['emp_length'] = df_clean['emp_length'].str.replace(r'[+]\\s|[a-z]', '')\n",
    "df_clean['emp_length'] = df_clean['emp_length'].str.replace('< 1', '0')\n",
    "# df_clean['emp_length'] = df_clean['emp_length'].str.replace('10+ ', '10')\n",
    "\n",
    "print(df_clean['emp_length'].value_counts())\n",
    "\n"
   ]
  },
  {
   "cell_type": "markdown",
   "metadata": {},
   "source": [
    "<h2> Step 9 : Analyzing clean data </h2>\n",
    "Now that we have clean data, we will analyze its shape. Majority of columns are numeric and hence we will use dataframe.describe function to just see summary of numeric columns. "
   ]
  },
  {
   "cell_type": "code",
   "execution_count": 31,
   "metadata": {},
   "outputs": [
    {
     "name": "stdout",
     "output_type": "stream",
     "text": [
      "(1854073, 100)\n",
      "       loan_amnt  funded_amnt  funded_amnt_inv   int_rate  installment  \\\n",
      "count 1854073.00   1854073.00       1854073.00 1854073.00   1854073.00   \n",
      "mean    15425.32     15425.30         15420.12      13.04       455.20   \n",
      "std      9248.70      9248.70          9246.58       4.85       268.33   \n",
      "min      1000.00      1000.00           725.00       5.31         4.93   \n",
      "25%      8000.00      8000.00          8000.00       9.44       260.07   \n",
      "50%     13875.00     13875.00         13825.00      12.62       388.14   \n",
      "75%     20000.00     20000.00         20000.00      15.88       605.58   \n",
      "max     40000.00     40000.00         40000.00      30.99      1719.83   \n",
      "\n",
      "        annual_inc        dti  delinq_2yrs  inq_last_6mths  \\\n",
      "count   1854073.00 1854073.00   1854073.00      1854073.00   \n",
      "mean      80628.03      18.95         0.31            0.54   \n",
      "std      111555.69      11.56         0.88            0.84   \n",
      "min           0.00      -1.00         0.00            0.00   \n",
      "25%       49900.00      12.29         0.00            0.00   \n",
      "50%       68000.00      18.08         0.00            0.00   \n",
      "75%       95481.00      24.64         0.00            1.00   \n",
      "max   110000000.00     999.00        58.00            8.00   \n",
      "\n",
      "       mths_since_last_delinq   open_acc    pub_rec  revol_bal  revol_util  \\\n",
      "count              1854073.00 1854073.00 1854073.00 1854073.00  1854073.00   \n",
      "mean                    23.18      11.94       0.19   16784.81       50.25   \n",
      "std                     19.06       5.66       0.57   22077.55       24.46   \n",
      "min                      0.00       1.00       0.00       0.00        0.00   \n",
      "25%                     12.00       8.00       0.00    6219.00       31.60   \n",
      "50%                     12.00      11.00       0.00   11670.00       50.10   \n",
      "75%                     31.00      15.00       0.00   20652.00       69.00   \n",
      "max                    202.00     101.00      86.00 2904836.00      366.60   \n",
      "\n",
      "       total_acc  out_prncp  out_prncp_inv  total_pymnt  total_pymnt_inv  \\\n",
      "count 1854073.00 1854073.00     1854073.00   1854073.00       1854073.00   \n",
      "mean       24.76    4597.74        4596.74     12119.76         12115.17   \n",
      "std        11.95    7680.93        7679.98     10001.53          9997.77   \n",
      "min         3.00       0.00           0.00         0.00             0.00   \n",
      "25%        16.00       0.00           0.00      4440.39          4438.73   \n",
      "50%        23.00       0.00           0.00      9384.05          9380.92   \n",
      "75%        31.00    7071.73        7068.60     17113.35         17106.40   \n",
      "max       176.00   39800.00       39800.00     63296.88         63296.88   \n",
      "\n",
      "       total_rec_prncp  total_rec_int  total_rec_late_fee  recoveries  \\\n",
      "count       1854073.00     1854073.00          1854073.00  1854073.00   \n",
      "mean           9539.78        2440.88                1.47      137.63   \n",
      "std            8420.34        2699.28               11.61      734.68   \n",
      "min               0.00           0.00               -0.00        0.00   \n",
      "25%            2970.19         712.77                0.00        0.00   \n",
      "50%            7000.00        1527.80                0.00        0.00   \n",
      "75%           14000.00        3135.12                0.00        0.00   \n",
      "max           40000.00       28192.50             1427.25    39859.55   \n",
      "\n",
      "       collection_recovery_fee  last_pymnt_amnt  collections_12_mths_ex_med  \\\n",
      "count               1854073.00       1854073.00                  1854073.00   \n",
      "mean                     23.04          3516.82                        0.02   \n",
      "std                     128.23          6127.53                        0.14   \n",
      "min                       0.00             0.00                        0.00   \n",
      "25%                       0.00           317.11                        0.00   \n",
      "50%                       0.00           610.75                        0.00   \n",
      "75%                       0.00          3906.47                        0.00   \n",
      "max                    7174.72         42192.05                       20.00   \n",
      "\n",
      "       policy_code  acc_now_delinq  tot_coll_amt  tot_cur_bal  open_acc_6m  \\\n",
      "count   1854073.00      1854073.00    1854073.00   1854073.00   1854073.00   \n",
      "mean          1.00            0.00        236.19    147955.33         0.59   \n",
      "std           0.00            0.07       9207.01    160776.92         1.01   \n",
      "min           1.00            0.00          0.00         0.00         0.00   \n",
      "25%           1.00            0.00          0.00     32279.00         0.00   \n",
      "50%           1.00            0.00          0.00     87165.00         0.00   \n",
      "75%           1.00            0.00          0.00    220562.00         1.00   \n",
      "max           1.00           14.00    9152545.00   9971659.00        16.00   \n",
      "\n",
      "       open_act_il  open_il_12m  open_il_24m  mths_since_rcnt_il  \\\n",
      "count   1854073.00   1854073.00   1854073.00          1854073.00   \n",
      "mean          2.24         0.44         1.41               15.52   \n",
      "std           2.63         0.82         1.30               20.75   \n",
      "min           0.00         0.00         0.00                0.00   \n",
      "25%           1.00         0.00         1.00                7.00   \n",
      "50%           1.00         0.00         1.00                7.00   \n",
      "75%           3.00         1.00         2.00               16.00   \n",
      "max          57.00        15.00        28.00              503.00   \n",
      "\n",
      "       total_bal_il    il_util  open_rv_12m  open_rv_24m  max_bal_bc  \\\n",
      "count    1854073.00 1854073.00   1854073.00   1854073.00  1854073.00   \n",
      "mean       23869.30      73.33         0.80         2.08     3688.84   \n",
      "std        40349.77      17.79         1.33         2.20     5256.76   \n",
      "min            0.00       0.00         0.00         0.00        0.00   \n",
      "25%            0.00      69.00         0.00         1.00        0.00   \n",
      "50%         8165.00      78.00         0.00         1.00     1982.00   \n",
      "75%        32819.00      78.00         1.00         3.00     5514.00   \n",
      "max      1837038.00    1000.00        28.00        60.00   776843.00   \n",
      "\n",
      "        all_util  total_rev_hi_lim     inq_fi  total_cu_tl  inq_last_12m  \\\n",
      "count 1854073.00        1854073.00 1854073.00   1854073.00    1854073.00   \n",
      "mean       58.13          34929.89       0.67         0.96          1.30   \n",
      "std        16.04          36335.78       1.31         2.25          2.18   \n",
      "min         0.00            100.00       0.00         0.00          0.00   \n",
      "25%        53.00          15200.00       0.00         0.00          0.00   \n",
      "50%        59.00          26100.00       0.00         0.00          0.00   \n",
      "75%        64.00          43800.00       1.00         1.00          2.00   \n",
      "max       239.00        9999999.00      48.00        77.00         67.00   \n",
      "\n",
      "       acc_open_past_24mths  avg_cur_bal  bc_open_to_buy    bc_util  \\\n",
      "count            1854073.00   1854073.00      1854073.00 1854073.00   \n",
      "mean                   4.59     13815.37        11694.34      57.73   \n",
      "std                    3.17     16110.25        16804.79      28.51   \n",
      "min                    0.00         0.00            0.00       0.00   \n",
      "25%                    2.00      3320.00         1699.00      35.30   \n",
      "50%                    4.00      7814.00         5664.00      59.90   \n",
      "75%                    6.00     19199.00        14807.00      82.90   \n",
      "max                   64.00    623229.00       711140.00     339.60   \n",
      "\n",
      "       chargeoff_within_12_mths  delinq_amnt  mo_sin_old_il_acct  \\\n",
      "count                1854073.00   1854073.00          1854073.00   \n",
      "mean                       0.01        11.37              125.66   \n",
      "std                        0.10       658.08               53.09   \n",
      "min                        0.00         0.00                0.00   \n",
      "25%                        0.00         0.00               95.00   \n",
      "50%                        0.00         0.00              130.00   \n",
      "75%                        0.00         0.00              154.00   \n",
      "max                        9.00    138474.00              999.00   \n",
      "\n",
      "       mo_sin_old_rev_tl_op  mo_sin_rcnt_rev_tl_op  mo_sin_rcnt_tl   mort_acc  \\\n",
      "count            1854073.00             1854073.00      1854073.00 1854073.00   \n",
      "mean                 177.06                  13.98            8.10       1.57   \n",
      "std                   91.99                  17.12            8.47       1.90   \n",
      "min                    1.00                   0.00            0.00       0.00   \n",
      "25%                  115.00                   4.00            3.00       0.00   \n",
      "50%                  161.00                   8.00            6.00       1.00   \n",
      "75%                  225.00                  17.00           10.00       3.00   \n",
      "max                  999.00                 406.00          197.00      94.00   \n",
      "\n",
      "       mths_since_recent_bc  mths_since_recent_inq  num_accts_ever_120_pd  \\\n",
      "count            1854073.00             1854073.00             1854073.00   \n",
      "mean                  24.90                   6.42                   0.52   \n",
      "std                   31.64                   5.94                   1.39   \n",
      "min                    0.00                   0.00                   0.00   \n",
      "25%                    6.00                   1.00                   0.00   \n",
      "50%                   14.00                   5.00                   0.00   \n",
      "75%                   30.00                  10.00                   0.00   \n",
      "max                  615.00                  24.00                  58.00   \n",
      "\n",
      "       num_actv_bc_tl  num_actv_rev_tl  num_bc_sats  num_bc_tl  num_il_tl  \\\n",
      "count      1854073.00       1854073.00   1854073.00 1854073.00 1854073.00   \n",
      "mean             3.68             5.57         4.73       7.77       8.91   \n",
      "std              2.25             3.24         2.85       4.65       7.44   \n",
      "min              0.00             0.00         0.00       1.00       1.00   \n",
      "25%              2.00             3.00         3.00       4.00       4.00   \n",
      "50%              3.00             5.00         4.00       7.00       7.00   \n",
      "75%              5.00             7.00         6.00      10.00      12.00   \n",
      "max             48.00            59.00        71.00      86.00     150.00   \n",
      "\n",
      "       num_op_rev_tl  num_rev_accts  num_rev_tl_bal_gt_0   num_sats  \\\n",
      "count     1854073.00     1854073.00           1854073.00 1854073.00   \n",
      "mean            8.31          14.03                 5.59      11.91   \n",
      "std             4.66           7.95                 3.25       5.65   \n",
      "min             1.00           1.00                 0.00       1.00   \n",
      "25%             5.00           8.00                 3.00       8.00   \n",
      "50%             7.00          12.00                 5.00      11.00   \n",
      "75%            11.00          18.00                 7.00      15.00   \n",
      "max            91.00         151.00                59.00     101.00   \n",
      "\n",
      "       num_tl_120dpd_2m  num_tl_30dpd  num_tl_90g_dpd_24m  num_tl_op_past_12m  \\\n",
      "count        1854073.00    1854073.00          1854073.00          1854073.00   \n",
      "mean               0.00          0.00                0.08                2.09   \n",
      "std                0.03          0.06                0.48                1.83   \n",
      "min                0.00          0.00                0.00                0.00   \n",
      "25%                0.00          0.00                0.00                1.00   \n",
      "50%                0.00          0.00                0.00                2.00   \n",
      "75%                0.00          0.00                0.00                3.00   \n",
      "max                7.00          4.00               58.00               31.00   \n",
      "\n",
      "       pct_tl_nvr_dlq  percent_bc_gt_75  pub_rec_bankruptcies  tax_liens  \\\n",
      "count      1854073.00        1854073.00            1854073.00 1854073.00   \n",
      "mean            94.23             42.16                  0.12       0.05   \n",
      "std              8.89             36.09                  0.36       0.39   \n",
      "min              0.00              0.00                  0.00       0.00   \n",
      "25%             91.70              0.00                  0.00       0.00   \n",
      "50%            100.00             37.50                  0.00       0.00   \n",
      "75%            100.00             70.00                  0.00       0.00   \n",
      "max            100.00            100.00                 12.00      85.00   \n",
      "\n",
      "       tot_hi_cred_lim  total_bal_ex_mort  total_bc_limit  \\\n",
      "count       1854073.00         1854073.00      1854073.00   \n",
      "mean         184593.25           53827.65        23685.32   \n",
      "std          181271.77           50927.40        22892.73   \n",
      "min             200.00               0.00          100.00   \n",
      "25%           55116.00           23198.00         8700.00   \n",
      "50%          122782.00           40261.00        16800.00   \n",
      "75%          265807.00           67348.00        31000.00   \n",
      "max         9999999.00         3408095.00      1105500.00   \n",
      "\n",
      "       total_il_high_credit_limit  \n",
      "count                  1854073.00  \n",
      "mean                     46653.13  \n",
      "std                      45724.16  \n",
      "min                          0.00  \n",
      "25%                      17910.00  \n",
      "50%                      35203.00  \n",
      "75%                      61793.00  \n",
      "max                    2118996.00  \n"
     ]
    }
   ],
   "source": [
    "\n",
    "print(df_clean.shape)\n",
    "pd.options.display.float_format = '{:.2f}'.format\n",
    "print(df_clean.describe())"
   ]
  },
  {
   "cell_type": "markdown",
   "metadata": {},
   "source": [
    "<h2> Step 10: Exporting clean data to 'csv\""
   ]
  },
  {
   "cell_type": "code",
   "execution_count": 32,
   "metadata": {},
   "outputs": [],
   "source": [
    "df_clean.to_csv(\"Loan_cleandata.csv\")"
   ]
  }
 ],
 "metadata": {
  "kernelspec": {
   "display_name": "Python 3",
   "language": "python",
   "name": "python3"
  },
  "language_info": {
   "codemirror_mode": {
    "name": "ipython",
    "version": 3
   },
   "file_extension": ".py",
   "mimetype": "text/x-python",
   "name": "python",
   "nbconvert_exporter": "python",
   "pygments_lexer": "ipython3",
   "version": "3.7.4"
  }
 },
 "nbformat": 4,
 "nbformat_minor": 4
}
